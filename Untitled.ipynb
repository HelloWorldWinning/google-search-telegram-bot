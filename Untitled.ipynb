{
 "cells": [
  {
   "cell_type": "code",
   "execution_count": 68,
   "id": "6d4f4168",
   "metadata": {},
   "outputs": [],
   "source": [
    "class Str:\n",
    "    def __get__(self, instance, owner):\n",
    "        print('Str调用')\n",
    "        print(instance, owner)\n",
    "    def __set__(self, instance, value):\n",
    "        print('Str设置...')\n",
    "        print(instance,value)\n",
    "    def __delete__(self, instance):\n",
    "        print('Str删除...')\n",
    "        print(instance)\n",
    " "
   ]
  },
  {
   "cell_type": "code",
   "execution_count": 69,
   "id": "0321a30e",
   "metadata": {},
   "outputs": [],
   "source": [
    "class People:\n",
    "    name = Str()  # name 属性被代理,将这个类作用于另外一个类的属性来使用\n",
    " \n",
    "    def __init__(self,name): #name被Str类代理\n",
    "        \n",
    "        self.name = name\n",
    " "
   ]
  },
  {
   "cell_type": "code",
   "execution_count": 70,
   "id": "80d1a62c",
   "metadata": {},
   "outputs": [
    {
     "name": "stdout",
     "output_type": "stream",
     "text": [
      "Str设置...\n",
      "<__main__.People object at 0x7f719827b130> 朱\n"
     ]
    }
   ],
   "source": [
    "p1 = People('朱')"
   ]
  },
  {
   "cell_type": "code",
   "execution_count": 71,
   "id": "e470337b",
   "metadata": {
    "scrolled": true
   },
   "outputs": [
    {
     "name": "stdout",
     "output_type": "stream",
     "text": [
      "Str调用\n",
      "<__main__.People object at 0x7f719827b130> <class '__main__.People'>\n"
     ]
    }
   ],
   "source": [
    "p1.name"
   ]
  },
  {
   "cell_type": "code",
   "execution_count": 72,
   "id": "bb3c090a",
   "metadata": {
    "scrolled": false
   },
   "outputs": [
    {
     "name": "stdout",
     "output_type": "stream",
     "text": [
      "Str调用\n",
      "<__main__.People object at 0x7f719827b130> <class '__main__.People'>\n"
     ]
    }
   ],
   "source": [
    "p1.name"
   ]
  },
  {
   "cell_type": "code",
   "execution_count": 74,
   "id": "829e494a",
   "metadata": {},
   "outputs": [
    {
     "name": "stdout",
     "output_type": "stream",
     "text": [
      "Str调用\n",
      "<__main__.People object at 0x7f719827b130> <class '__main__.People'>\n"
     ]
    },
    {
     "data": {
      "text/plain": [
       "NoneType"
      ]
     },
     "execution_count": 74,
     "metadata": {},
     "output_type": "execute_result"
    }
   ],
   "source": [
    "type(p1.name)"
   ]
  },
  {
   "cell_type": "code",
   "execution_count": null,
   "id": "65b20dec",
   "metadata": {},
   "outputs": [],
   "source": [
    "P."
   ]
  }
 ],
 "metadata": {
  "kernelspec": {
   "display_name": "Python 3 (ipykernel)",
   "language": "python",
   "name": "python3"
  },
  "language_info": {
   "codemirror_mode": {
    "name": "ipython",
    "version": 3
   },
   "file_extension": ".py",
   "mimetype": "text/x-python",
   "name": "python",
   "nbconvert_exporter": "python",
   "pygments_lexer": "ipython3",
   "version": "3.9.12"
  }
 },
 "nbformat": 4,
 "nbformat_minor": 5
}
